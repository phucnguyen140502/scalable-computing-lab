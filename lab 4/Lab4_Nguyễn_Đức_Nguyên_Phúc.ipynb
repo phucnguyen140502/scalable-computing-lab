{
  "nbformat": 4,
  "nbformat_minor": 0,
  "metadata": {
    "colab": {
      "provenance": []
    },
    "kernelspec": {
      "name": "python3",
      "display_name": "Python 3"
    },
    "language_info": {
      "name": "python"
    }
  },
  "cells": [
    {
      "cell_type": "markdown",
      "source": [
        "## Exercise 1\n",
        "Write a function to compute the below formualation with the use of map function\n",
        "\\begin{equation}\n",
        "x^2 + y^2 - r^2\n",
        "\\end{equation}\n",
        "\n",
        "then, print out the values of the equation at these below values of $x$, $y$ and $z$\n",
        "```\n",
        "x = [1,2,3,4,5,6]\n",
        "y = [2,3,4,5,6,7]\n",
        "r = [1,1,3,3,4,5]\n",
        "\n",
        "```"
      ],
      "metadata": {
        "id": "C55kkJX5WZVa"
      }
    },
    {
      "cell_type": "code",
      "execution_count": null,
      "metadata": {
        "colab": {
          "base_uri": "https://localhost:8080/"
        },
        "id": "j2li1nvZWYkQ",
        "outputId": "19828905-f790-4769-d8b4-49b21b98d563"
      },
      "outputs": [
        {
          "output_type": "execute_result",
          "data": {
            "text/plain": [
              "[4, 12, 16, 32, 45, 60]"
            ]
          },
          "metadata": {},
          "execution_count": 1
        }
      ],
      "source": [
        "import math\n",
        "\n",
        "def compute_equation(x, y, r):\n",
        "    return x**2 + y**2 - r**2\n",
        "\n",
        "x = [1,2,3,4,5,6]\n",
        "y = [2,3,4,5,6,7]\n",
        "r = [1,1,3,3,4,5]\n",
        "\n",
        "results = list(map(compute_equation, x, y, r))\n",
        "results"
      ]
    },
    {
      "cell_type": "markdown",
      "source": [
        "## Exercise 2\n",
        "\n",
        "Write a function that take input as a list of words and return to a list of integers representing the lengths of the correponding words.\n",
        "\n",
        "Write it in three different ways:\n",
        "1. using a for-loop,\n",
        "2. using function `map()`, and\n",
        "3. using list comprehensions."
      ],
      "metadata": {
        "id": "S3NL5OWKWsBM"
      }
    },
    {
      "cell_type": "code",
      "source": [
        "def word_lengths_for(words):\n",
        "    lengths = []\n",
        "    for word in words:\n",
        "        lengths.append(len(word))\n",
        "    return lengths\n",
        "\n",
        "def word_lengths_map(words):\n",
        "    return list(map(len, words))\n",
        "\n",
        "def word_lengths_comprehension(words):\n",
        "    return [len(word) for word in words]"
      ],
      "metadata": {
        "id": "dmDSmALVWjNy"
      },
      "execution_count": null,
      "outputs": []
    },
    {
      "cell_type": "markdown",
      "source": [
        "## Exercise 3\n",
        "\n",
        "Implement a program to make a list whose elements are double string of a string `re` (i.e., `rere`), where `re` is the first two characters of approriate elements in this list:\n",
        "\n",
        "`['real', 'rock', 'realize', 'rocket', 'red', 'eraser' , '7', 8 , 9, 10]`."
      ],
      "metadata": {
        "id": "sBnoj40XaIAV"
      }
    },
    {
      "cell_type": "code",
      "source": [
        "def double_string(words):\n",
        "    double_strings = []\n",
        "    for word in words:\n",
        "        if isinstance(word, str) and len(word) >= 2:\n",
        "            re = word[:2]\n",
        "            double_strings.append(re * 2)\n",
        "    return double_strings\n",
        "\n",
        "words = ['real', 'rock', 'realize', 'rocket', 'red', 'eraser', '7', 8, 9, 10]\n",
        "result_list = double_string(words)\n",
        "result_list"
      ],
      "metadata": {
        "colab": {
          "base_uri": "https://localhost:8080/"
        },
        "id": "6oOLhJheaLwN",
        "outputId": "8da57633-307d-4405-ad48-982030a7531e"
      },
      "execution_count": null,
      "outputs": [
        {
          "output_type": "execute_result",
          "data": {
            "text/plain": [
              "['rere', 'roro', 'rere', 'roro', 'rere', 'erer']"
            ]
          },
          "metadata": {},
          "execution_count": 3
        }
      ]
    },
    {
      "cell_type": "markdown",
      "source": [
        "## Exercise 4\n",
        "\n",
        "Write a function `max_in_list()` that takes a list of numbers and returns the largest one using `reduce()` in lib `functools`"
      ],
      "metadata": {
        "id": "tZUY_TVJbYrs"
      }
    },
    {
      "cell_type": "code",
      "source": [
        "from functools import reduce\n",
        "\n",
        "def max_in_list(numbers):\n",
        "    return reduce(lambda x, y: x if x > y else y, numbers)\n"
      ],
      "metadata": {
        "id": "cmWubUJAbCBe"
      },
      "execution_count": null,
      "outputs": []
    },
    {
      "cell_type": "markdown",
      "source": [
        "## Exercise 5\n",
        "\n",
        "Using Python `map` to write a Python program to triple all numbers of a given list of integers."
      ],
      "metadata": {
        "id": "N9Bpq3Wiezxy"
      }
    },
    {
      "cell_type": "code",
      "source": [
        "def triple_numbers(numbers):\n",
        "    return list(map(lambda x: x * 3, numbers))"
      ],
      "metadata": {
        "id": "2WrsFKboaGlL"
      },
      "execution_count": null,
      "outputs": []
    },
    {
      "cell_type": "markdown",
      "source": [
        "## Exercise 6\n",
        "Implement parallel processing using `map()` to apply a function across multiple elements of an iterable concurrently, and then use `reduce()` to aggregate the results."
      ],
      "metadata": {
        "id": "hCkaz75Pfe7v"
      }
    },
    {
      "cell_type": "code",
      "source": [
        "from concurrent.futures import ThreadPoolExecutor  # Để thực hiện song song\n",
        "from functools import reduce  # Để tích lũy kết quả\n",
        "\n",
        "# Hàm tính bình phương\n",
        "def square(x):\n",
        "    return x * x\n",
        "\n",
        "# Danh sách số đầu vào\n",
        "numbers = [1, 2, 3, 4, 5]\n",
        "\n",
        "# 1. Song song với ThreadPoolExecutor.map()\n",
        "with ThreadPoolExecutor() as executor:\n",
        "    # Áp dụng hàm square() song song\n",
        "    results = list(executor.map(square, numbers))  # [1, 4, 9, 16, 25]\n",
        "\n",
        "print(\"Squared results:\", results)\n",
        "\n",
        "# 2. Tích lũy với reduce()\n",
        "total_sum = reduce(lambda x, y: x + y, results)  # Tính tổng các bình phương\n",
        "print(\"Sum of squares:\", total_sum)\n"
      ],
      "metadata": {
        "colab": {
          "base_uri": "https://localhost:8080/"
        },
        "id": "OEFYSl8kfV5Z",
        "outputId": "f800f957-ad76-49fc-dcb1-f8f61202b60a"
      },
      "execution_count": null,
      "outputs": [
        {
          "output_type": "stream",
          "name": "stdout",
          "text": [
            "Squared results: [1, 4, 9, 16, 25]\n",
            "Sum of squares: 55\n"
          ]
        }
      ]
    },
    {
      "cell_type": "markdown",
      "source": [
        "## Exercise 7\n",
        "Implement a MapReduce-style function to process data distributed across multiple nodes or workers."
      ],
      "metadata": {
        "id": "yVrrmnELhTk2"
      }
    },
    {
      "cell_type": "code",
      "source": [
        "## bài toán cơ bản nhất của bigdata nếu từ xuất hiện\n",
        "\n",
        "from collections import defaultdict\n",
        "from functools import reduce\n",
        "from concurrent.futures import ThreadPoolExecutor\n",
        "\n",
        "# Hàm Map: Đếm số lần xuất hiện của từng từ trong một phần dữ liệu\n",
        "def map_function(data_chunk):\n",
        "    word_count = {}  # Tạo một dictionary để lưu số lần xuất hiện của từ\n",
        "    for word in data_chunk:\n",
        "        word_count[word] = word_count.get(word, 0) + 1  # Tăng số lần xuất hiện của từ\n",
        "    return word_count\n",
        "\n",
        "# Hàm Reduce: Gộp kết quả từ nhiều worker\n",
        "def reduce_function(mapped_data):\n",
        "    final_count = {}\n",
        "    for partial_result in mapped_data:\n",
        "        for word, count in partial_result.items():\n",
        "            final_count[word] = final_count.get(word, 0) + count  # Gộp số lần xuất hiện\n",
        "    return final_count\n",
        "\n",
        "# Hàm chính để thực hiện MapReduce\n",
        "def mapreduce(data, num_workers=4):\n",
        "    # 1. Chia dữ liệu thành nhiều phần nhỏ để phân phối cho các worker\n",
        "    chunk_size = len(data) // num_workers\n",
        "    data_chunks = [data[i:i + chunk_size] for i in range(0, len(data), chunk_size)]\n",
        "\n",
        "    # 2. Thực hiện giai đoạn Map song song với các worker\n",
        "    with ThreadPoolExecutor(max_workers=num_workers) as executor:\n",
        "        mapped_results = list(executor.map(map_function, data_chunks))\n",
        "\n",
        "    # 3. Thực hiện giai đoạn Reduce để gộp kết quả\n",
        "    final_result = reduce_function(mapped_results)\n",
        "\n",
        "    return final_result\n",
        "\n",
        "# Dữ liệu mẫu\n",
        "data = [\n",
        "    \"hadoop\", \"spark\", \"hadoop\", \"mapreduce\",\n",
        "    \"spark\", \"hive\", \"spark\", \"hadoop\",\n",
        "    \"hive\", \"hive\", \"mapreduce\", \"spark\"\n",
        "]\n",
        "\n",
        "# Gọi hàm MapReduce\n",
        "result = mapreduce(data, num_workers=3)\n",
        "\n",
        "# Kết quả\n",
        "print(\"Kết quả đếm từ:\", result)\n"
      ],
      "metadata": {
        "colab": {
          "base_uri": "https://localhost:8080/"
        },
        "id": "Yo79_1w2hKYA",
        "outputId": "48e7e36c-f69c-4c9d-9c42-81aff7addcd0"
      },
      "execution_count": null,
      "outputs": [
        {
          "output_type": "stream",
          "name": "stdout",
          "text": [
            "Kết quả đếm từ: {'hadoop': 3, 'spark': 4, 'mapreduce': 2, 'hive': 3}\n"
          ]
        }
      ]
    }
  ]
}