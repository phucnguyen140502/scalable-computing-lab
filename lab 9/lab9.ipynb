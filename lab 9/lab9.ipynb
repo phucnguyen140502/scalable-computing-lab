{
  "cells": [
    {
      "cell_type": "code",
      "source": [
        "from google.colab import drive\n",
        "drive.mount('/content/drive')"
      ],
      "metadata": {
        "colab": {
          "base_uri": "https://localhost:8080/"
        },
        "id": "dMcuho5LKmUf",
        "outputId": "37f3efdd-c7c2-4634-971a-2d1f8cb1ac94"
      },
      "execution_count": 4,
      "outputs": [
        {
          "output_type": "stream",
          "name": "stdout",
          "text": [
            "Mounted at /content/drive\n"
          ]
        }
      ]
    },
    {
      "cell_type": "markdown",
      "metadata": {
        "id": "ZzyqlkZJp-QV"
      },
      "source": [
        "# Linear Regression Consulting Project"
      ]
    },
    {
      "cell_type": "markdown",
      "metadata": {
        "collapsed": true,
        "id": "ZN8LV9Tap-QZ"
      },
      "source": [
        "You've been contracted by Hyundai Heavy Industries to help them build a predictive model for some ships. [Hyundai Heavy Industries](http://www.hyundai.eu/en) is one of the world's largest ship manufacturing companies and builds cruise liners.\n",
        "\n",
        "You've been flown to their headquarters in Ulsan, South Korea to help them give accurate estimates of how many crew members a ship will require.\n",
        "\n",
        "They are currently building new ships for some customers and want you to create a model and use it to predict how many crew members the ships will need.\n",
        "\n",
        "Here is what the data looks like so far:\n",
        "\n",
        "    Description: Measurements of ship size, capacity, crew, and age for 158 cruise\n",
        "    ships.\n",
        "\n",
        "\n",
        "    Variables/Columns\n",
        "    Ship Name     1-20\n",
        "    Cruise Line   21-40\n",
        "    Age (as of 2013)   46-48\n",
        "    Tonnage (1000s of tons)   50-56\n",
        "    passengers (100s)   58-64\n",
        "    Length (100s of feet)  66-72\n",
        "    Cabins  (100s)   74-80\n",
        "    Passenger Density   82-88\n",
        "    Crew  (100s)   90-96\n",
        "    \n",
        "It is saved in a csv file for you called \"cruise_ship_info.csv\". Your job is to create a regression model that will help predict how many crew members will be needed for future ships. The client also mentioned that they have found that particular cruise lines will differ in acceptable crew counts, so it is most likely an important feature to include in your analysis!\n",
        "\n",
        "Once you've created the model and tested it for a quick check on how well you can expect it to perform, make sure you take a look at why it performs so well!"
      ]
    },
    {
      "cell_type": "code",
      "source": [
        "import pyspark\n",
        "from pyspark.sql import SparkSession\n",
        "\n",
        "spark = SparkSession.builder.appName('cruise').getOrCreate()"
      ],
      "metadata": {
        "id": "anCeZzzPqJBl"
      },
      "execution_count": 16,
      "outputs": []
    },
    {
      "cell_type": "code",
      "source": [
        "cruise_ship = spark.read.csv('/content/drive/My Drive/cruise_ship_info.csv', inferSchema=True, header=True)"
      ],
      "metadata": {
        "id": "8aa3q4uEzxwR"
      },
      "execution_count": 35,
      "outputs": []
    },
    {
      "cell_type": "code",
      "source": [
        "cruise_ship.printSchema()"
      ],
      "metadata": {
        "colab": {
          "base_uri": "https://localhost:8080/"
        },
        "id": "5aSDp-iqKgZy",
        "outputId": "2dca60d3-3c9d-4f7e-98e9-56a0a1e694f5"
      },
      "execution_count": 18,
      "outputs": [
        {
          "output_type": "stream",
          "name": "stdout",
          "text": [
            "root\n",
            " |-- Ship_name: string (nullable = true)\n",
            " |-- Cruise_line: string (nullable = true)\n",
            " |-- Age: integer (nullable = true)\n",
            " |-- Tonnage: double (nullable = true)\n",
            " |-- passengers: double (nullable = true)\n",
            " |-- length: double (nullable = true)\n",
            " |-- cabins: double (nullable = true)\n",
            " |-- passenger_density: double (nullable = true)\n",
            " |-- crew: double (nullable = true)\n",
            "\n"
          ]
        }
      ]
    },
    {
      "cell_type": "code",
      "source": [
        "cruise_ship.show()"
      ],
      "metadata": {
        "colab": {
          "base_uri": "https://localhost:8080/"
        },
        "id": "1-TF5y1PK22k",
        "outputId": "32cb7631-a41b-4b57-afc2-a6208e50b2c1"
      },
      "execution_count": 19,
      "outputs": [
        {
          "output_type": "stream",
          "name": "stdout",
          "text": [
            "+-----------+-----------+---+------------------+----------+------+------+-----------------+----+\n",
            "|  Ship_name|Cruise_line|Age|           Tonnage|passengers|length|cabins|passenger_density|crew|\n",
            "+-----------+-----------+---+------------------+----------+------+------+-----------------+----+\n",
            "|    Journey|    Azamara|  6|30.276999999999997|      6.94|  5.94|  3.55|            42.64|3.55|\n",
            "|      Quest|    Azamara|  6|30.276999999999997|      6.94|  5.94|  3.55|            42.64|3.55|\n",
            "|Celebration|   Carnival| 26|            47.262|     14.86|  7.22|  7.43|             31.8| 6.7|\n",
            "|   Conquest|   Carnival| 11|             110.0|     29.74|  9.53| 14.88|            36.99|19.1|\n",
            "|    Destiny|   Carnival| 17|           101.353|     26.42|  8.92| 13.21|            38.36|10.0|\n",
            "|    Ecstasy|   Carnival| 22|            70.367|     20.52|  8.55|  10.2|            34.29| 9.2|\n",
            "|    Elation|   Carnival| 15|            70.367|     20.52|  8.55|  10.2|            34.29| 9.2|\n",
            "|    Fantasy|   Carnival| 23|            70.367|     20.56|  8.55| 10.22|            34.23| 9.2|\n",
            "|Fascination|   Carnival| 19|            70.367|     20.52|  8.55|  10.2|            34.29| 9.2|\n",
            "|    Freedom|   Carnival|  6|110.23899999999999|      37.0|  9.51| 14.87|            29.79|11.5|\n",
            "|      Glory|   Carnival| 10|             110.0|     29.74|  9.51| 14.87|            36.99|11.6|\n",
            "|    Holiday|   Carnival| 28|            46.052|     14.52|  7.27|  7.26|            31.72| 6.6|\n",
            "|Imagination|   Carnival| 18|            70.367|     20.52|  8.55|  10.2|            34.29| 9.2|\n",
            "|Inspiration|   Carnival| 17|            70.367|     20.52|  8.55|  10.2|            34.29| 9.2|\n",
            "|     Legend|   Carnival| 11|              86.0|     21.24|  9.63| 10.62|            40.49| 9.3|\n",
            "|   Liberty*|   Carnival|  8|             110.0|     29.74|  9.51| 14.87|            36.99|11.6|\n",
            "|    Miracle|   Carnival|  9|              88.5|     21.24|  9.63| 10.62|            41.67|10.3|\n",
            "|   Paradise|   Carnival| 15|            70.367|     20.52|  8.55|  10.2|            34.29| 9.2|\n",
            "|      Pride|   Carnival| 12|              88.5|     21.24|  9.63| 11.62|            41.67| 9.3|\n",
            "|  Sensation|   Carnival| 20|            70.367|     20.52|  8.55|  10.2|            34.29| 9.2|\n",
            "+-----------+-----------+---+------------------+----------+------+------+-----------------+----+\n",
            "only showing top 20 rows\n",
            "\n"
          ]
        }
      ]
    },
    {
      "cell_type": "code",
      "source": [
        "cruise_ship.describe().show()"
      ],
      "metadata": {
        "colab": {
          "base_uri": "https://localhost:8080/"
        },
        "id": "5NQY42o-K4SB",
        "outputId": "17d935fb-ac22-492f-95e9-54ac39f76b44"
      },
      "execution_count": 20,
      "outputs": [
        {
          "output_type": "stream",
          "name": "stdout",
          "text": [
            "+-------+---------+-----------+------------------+------------------+-----------------+-----------------+------------------+-----------------+-----------------+\n",
            "|summary|Ship_name|Cruise_line|               Age|           Tonnage|       passengers|           length|            cabins|passenger_density|             crew|\n",
            "+-------+---------+-----------+------------------+------------------+-----------------+-----------------+------------------+-----------------+-----------------+\n",
            "|  count|      158|        158|               158|               158|              158|              158|               158|              158|              158|\n",
            "|   mean| Infinity|       NULL|15.689873417721518| 71.28467088607599|18.45740506329114|8.130632911392404| 8.830000000000005|39.90094936708861|7.794177215189873|\n",
            "| stddev|     NULL|       NULL| 7.615691058751413|37.229540025907866|9.677094775143416|1.793473548054825|4.4714172221480615| 8.63921711391542|3.503486564627034|\n",
            "|    min|Adventure|    Azamara|                 4|             2.329|             0.66|             2.79|              0.33|             17.7|             0.59|\n",
            "|    max|Zuiderdam|   Windstar|                48|             220.0|             54.0|            11.82|              27.0|            71.43|             21.0|\n",
            "+-------+---------+-----------+------------------+------------------+-----------------+-----------------+------------------+-----------------+-----------------+\n",
            "\n"
          ]
        }
      ]
    },
    {
      "cell_type": "code",
      "source": [
        "import matplotlib.pyplot as plt\n",
        "import seaborn as sns\n",
        "\n",
        "cruise_ship.toPandas().hist(bins=50, figsize=(20,15))\n",
        "plt.show()"
      ],
      "metadata": {
        "colab": {
          "base_uri": "https://localhost:8080/",
          "height": 916
        },
        "id": "Z-E-u_RALA83",
        "outputId": "dd1f3c3e-ada2-4165-e464-4ecc2f777d94"
      },
      "execution_count": 21,
      "outputs": [
        {
          "output_type": "display_data",
          "data": {
            "text/plain": [
              "<Figure size 2000x1500 with 9 Axes>"
            ],
            "image/png": "[encoded data removed]"
          },
          "metadata": {}
        }
      ]
    },
    {
      "cell_type": "markdown",
      "source": [
        "### Handing Missing Values"
      ],
      "metadata": {
        "id": "DXLBvW1UNF6Z"
      }
    },
    {
      "cell_type": "code",
      "source": [
        "# Tính tổng số giá trị null trong mỗi cột\n",
        "from pyspark.sql.functions import col, sum\n",
        "\n",
        "null_counts = cruise_ship.select([sum(col(c).isNull().cast(\"int\")).alias(c) for c in cruise_ship.columns])\n",
        "null_counts.show()"
      ],
      "metadata": {
        "colab": {
          "base_uri": "https://localhost:8080/"
        },
        "id": "eC4wSTEYLzkj",
        "outputId": "3c84e0f5-bd83-4f33-95c1-2a062eb988ec"
      },
      "execution_count": 22,
      "outputs": [
        {
          "output_type": "stream",
          "name": "stdout",
          "text": [
            "+---------+-----------+---+-------+----------+------+------+-----------------+----+\n",
            "|Ship_name|Cruise_line|Age|Tonnage|passengers|length|cabins|passenger_density|crew|\n",
            "+---------+-----------+---+-------+----------+------+------+-----------------+----+\n",
            "|        0|          0|  0|      0|         0|     0|     0|                0|   0|\n",
            "+---------+-----------+---+-------+----------+------+------+-----------------+----+\n",
            "\n"
          ]
        }
      ]
    },
    {
      "cell_type": "markdown",
      "source": [
        "### Duplicate Data"
      ],
      "metadata": {
        "id": "ehZlRl7GNjIF"
      }
    },
    {
      "cell_type": "code",
      "source": [
        "# Đếm tổng số dòng trùng lặp\n",
        "duplicate_count = cruise_ship.groupBy(cruise_ship.columns).count().filter(col(\"count\") > 1).agg(sum(col(\"count\") - 1)).collect()[0][0]\n",
        "\n",
        "print(f\"Total of duplicate row: {duplicate_count}\")"
      ],
      "metadata": {
        "colab": {
          "base_uri": "https://localhost:8080/"
        },
        "id": "Jp3tSF68LI_R",
        "outputId": "7050cbc7-8a43-4613-966d-2ed216cc5198"
      },
      "execution_count": 25,
      "outputs": [
        {
          "output_type": "stream",
          "name": "stdout",
          "text": [
            "Total of duplicate row: None\n"
          ]
        }
      ]
    },
    {
      "cell_type": "markdown",
      "source": [
        "### Analysis"
      ],
      "metadata": {
        "id": "begg2xEoVEtO"
      }
    },
    {
      "cell_type": "code",
      "source": [
        "from pyspark.ml.feature import StringIndexer\n",
        "\n",
        "# Mã hóa biến Cruise_line\n",
        "indexer = StringIndexer(inputCol=\"Cruise_line\", outputCol=\"Cruise_line_index\")\n",
        "df = indexer.fit(cruise_ship).transform(cruise_ship)\n"
      ],
      "metadata": {
        "id": "NLGXz4aOVD-_"
      },
      "execution_count": 26,
      "outputs": []
    },
    {
      "cell_type": "code",
      "source": [
        "df.show()"
      ],
      "metadata": {
        "colab": {
          "base_uri": "https://localhost:8080/"
        },
        "id": "tdYHGbsMWA3J",
        "outputId": "10d90ccb-b99a-4fb5-fec2-2705fa00b883"
      },
      "execution_count": 27,
      "outputs": [
        {
          "output_type": "stream",
          "name": "stdout",
          "text": [
            "+-----------+-----------+---+------------------+----------+------+------+-----------------+----+-----------------+\n",
            "|  Ship_name|Cruise_line|Age|           Tonnage|passengers|length|cabins|passenger_density|crew|Cruise_line_index|\n",
            "+-----------+-----------+---+------------------+----------+------+------+-----------------+----+-----------------+\n",
            "|    Journey|    Azamara|  6|30.276999999999997|      6.94|  5.94|  3.55|            42.64|3.55|             16.0|\n",
            "|      Quest|    Azamara|  6|30.276999999999997|      6.94|  5.94|  3.55|            42.64|3.55|             16.0|\n",
            "|Celebration|   Carnival| 26|            47.262|     14.86|  7.22|  7.43|             31.8| 6.7|              1.0|\n",
            "|   Conquest|   Carnival| 11|             110.0|     29.74|  9.53| 14.88|            36.99|19.1|              1.0|\n",
            "|    Destiny|   Carnival| 17|           101.353|     26.42|  8.92| 13.21|            38.36|10.0|              1.0|\n",
            "|    Ecstasy|   Carnival| 22|            70.367|     20.52|  8.55|  10.2|            34.29| 9.2|              1.0|\n",
            "|    Elation|   Carnival| 15|            70.367|     20.52|  8.55|  10.2|            34.29| 9.2|              1.0|\n",
            "|    Fantasy|   Carnival| 23|            70.367|     20.56|  8.55| 10.22|            34.23| 9.2|              1.0|\n",
            "|Fascination|   Carnival| 19|            70.367|     20.52|  8.55|  10.2|            34.29| 9.2|              1.0|\n",
            "|    Freedom|   Carnival|  6|110.23899999999999|      37.0|  9.51| 14.87|            29.79|11.5|              1.0|\n",
            "|      Glory|   Carnival| 10|             110.0|     29.74|  9.51| 14.87|            36.99|11.6|              1.0|\n",
            "|    Holiday|   Carnival| 28|            46.052|     14.52|  7.27|  7.26|            31.72| 6.6|              1.0|\n",
            "|Imagination|   Carnival| 18|            70.367|     20.52|  8.55|  10.2|            34.29| 9.2|              1.0|\n",
            "|Inspiration|   Carnival| 17|            70.367|     20.52|  8.55|  10.2|            34.29| 9.2|              1.0|\n",
            "|     Legend|   Carnival| 11|              86.0|     21.24|  9.63| 10.62|            40.49| 9.3|              1.0|\n",
            "|   Liberty*|   Carnival|  8|             110.0|     29.74|  9.51| 14.87|            36.99|11.6|              1.0|\n",
            "|    Miracle|   Carnival|  9|              88.5|     21.24|  9.63| 10.62|            41.67|10.3|              1.0|\n",
            "|   Paradise|   Carnival| 15|            70.367|     20.52|  8.55|  10.2|            34.29| 9.2|              1.0|\n",
            "|      Pride|   Carnival| 12|              88.5|     21.24|  9.63| 11.62|            41.67| 9.3|              1.0|\n",
            "|  Sensation|   Carnival| 20|            70.367|     20.52|  8.55|  10.2|            34.29| 9.2|              1.0|\n",
            "+-----------+-----------+---+------------------+----------+------+------+-----------------+----+-----------------+\n",
            "only showing top 20 rows\n",
            "\n"
          ]
        }
      ]
    },
    {
      "cell_type": "code",
      "source": [
        "from pyspark.ml.feature import VectorAssembler\n",
        "\n",
        "# Xác định các cột đặc trưng\n",
        "feature_cols = [\"Cruise_line_index\", \"Age\", \"Tonnage\", \"passengers\", \"length\", \"cabins\", \"passenger_density\"]\n",
        "\n",
        "# Gộp các cột thành một vector\n",
        "assembler = VectorAssembler(inputCols=feature_cols, outputCol=\"features\")\n",
        "df = assembler.transform(df)\n",
        "\n",
        "# Chọn các cột cần thiết cho mô hình\n",
        "df = df.select(\"features\", \"crew\")\n",
        "df.show()"
      ],
      "metadata": {
        "colab": {
          "base_uri": "https://localhost:8080/"
        },
        "id": "mkJBUBJtWDmm",
        "outputId": "9c33de81-7dc2-4934-ae92-9aac2da9d04b"
      },
      "execution_count": 28,
      "outputs": [
        {
          "output_type": "stream",
          "name": "stdout",
          "text": [
            "+--------------------+----+\n",
            "|            features|crew|\n",
            "+--------------------+----+\n",
            "|[16.0,6.0,30.2769...|3.55|\n",
            "|[16.0,6.0,30.2769...|3.55|\n",
            "|[1.0,26.0,47.262,...| 6.7|\n",
            "|[1.0,11.0,110.0,2...|19.1|\n",
            "|[1.0,17.0,101.353...|10.0|\n",
            "|[1.0,22.0,70.367,...| 9.2|\n",
            "|[1.0,15.0,70.367,...| 9.2|\n",
            "|[1.0,23.0,70.367,...| 9.2|\n",
            "|[1.0,19.0,70.367,...| 9.2|\n",
            "|[1.0,6.0,110.2389...|11.5|\n",
            "|[1.0,10.0,110.0,2...|11.6|\n",
            "|[1.0,28.0,46.052,...| 6.6|\n",
            "|[1.0,18.0,70.367,...| 9.2|\n",
            "|[1.0,17.0,70.367,...| 9.2|\n",
            "|[1.0,11.0,86.0,21...| 9.3|\n",
            "|[1.0,8.0,110.0,29...|11.6|\n",
            "|[1.0,9.0,88.5,21....|10.3|\n",
            "|[1.0,15.0,70.367,...| 9.2|\n",
            "|[1.0,12.0,88.5,21...| 9.3|\n",
            "|[1.0,20.0,70.367,...| 9.2|\n",
            "+--------------------+----+\n",
            "only showing top 20 rows\n",
            "\n"
          ]
        }
      ]
    },
    {
      "cell_type": "code",
      "source": [
        "# Chia dữ liệu thành training (80%) và testing (20%)\n",
        "train_data, test_data = df.randomSplit([0.8, 0.2], seed=42)\n"
      ],
      "metadata": {
        "id": "C-Lqx9svWLsR"
      },
      "execution_count": 29,
      "outputs": []
    },
    {
      "cell_type": "code",
      "source": [
        "from pyspark.ml.regression import LinearRegression\n",
        "\n",
        "# Tạo mô hình Linear Regression\n",
        "lr = LinearRegression(featuresCol=\"features\", labelCol=\"crew\")\n",
        "\n",
        "# Huấn luyện mô hình trên tập training\n",
        "lr_model = lr.fit(train_data)\n"
      ],
      "metadata": {
        "id": "mYA4WOHtWTBZ"
      },
      "execution_count": 30,
      "outputs": []
    },
    {
      "cell_type": "code",
      "source": [
        "# Đánh giá mô hình trên tập test\n",
        "test_results = lr_model.evaluate(test_data)\n",
        "\n",
        "# In các chỉ số đánh giá\n",
        "print(\"Root Mean Squared Error (RMSE):\", test_results.rootMeanSquaredError)\n",
        "print(\"R² Score:\", test_results.r2)\n"
      ],
      "metadata": {
        "colab": {
          "base_uri": "https://localhost:8080/"
        },
        "id": "DSAI05qaWVVu",
        "outputId": "6ccb6830-04bc-4ac6-cf8d-7516c7f8a4d6"
      },
      "execution_count": 31,
      "outputs": [
        {
          "output_type": "stream",
          "name": "stdout",
          "text": [
            "Root Mean Squared Error (RMSE): 1.6380351802665358\n",
            "R² Score: 0.8052483620036102\n"
          ]
        }
      ]
    },
    {
      "cell_type": "code",
      "source": [
        "print(\"Coefficients:\", lr_model.coefficients)\n",
        "print(\"Intercept:\", lr_model.intercept)\n"
      ],
      "metadata": {
        "colab": {
          "base_uri": "https://localhost:8080/"
        },
        "id": "sfUxFsHGWX4N",
        "outputId": "68c2cd09-0f62-49c0-9f0f-9ade55d8cb9b"
      },
      "execution_count": 32,
      "outputs": [
        {
          "output_type": "stream",
          "name": "stdout",
          "text": [
            "Coefficients: [0.04248355634736307,-0.01110383260752294,0.018931412460789294,-0.1369834494852146,0.4905411057451113,0.709319945364829,-0.010291408760212914]\n",
            "Intercept: -0.9480566643801185\n"
          ]
        }
      ]
    },
    {
      "cell_type": "code",
      "source": [
        "# Dự đoán số lượng crew\n",
        "predictions = lr_model.transform(test_data)\n",
        "predictions.select(\"features\", \"crew\", \"prediction\").show()\n"
      ],
      "metadata": {
        "colab": {
          "base_uri": "https://localhost:8080/"
        },
        "id": "Tv_5XvNBWfYJ",
        "outputId": "fcb455bf-0f12-4587-af36-5e007a0015d6"
      },
      "execution_count": 33,
      "outputs": [
        {
          "output_type": "stream",
          "name": "stdout",
          "text": [
            "+--------------------+-----+------------------+\n",
            "|            features| crew|        prediction|\n",
            "+--------------------+-----+------------------+\n",
            "|[0.0,6.0,158.0,43...| 13.6|13.904515881705699|\n",
            "|[0.0,10.0,138.0,3...|11.85|12.879290903841879|\n",
            "|[0.0,11.0,138.0,3...|11.85|12.868187071234356|\n",
            "|[0.0,15.0,78.491,...|  6.6|  8.28574281387627|\n",
            "|[0.0,21.0,73.941,...| 8.22| 8.833662188256815|\n",
            "|[1.0,6.0,110.2389...| 11.5| 10.95244867987839|\n",
            "|[1.0,11.0,110.0,2...| 19.1|11.829710631020324|\n",
            "|[1.0,15.0,70.367,...|  9.2| 8.525413210500414|\n",
            "|[2.0,6.0,113.0,37...| 12.0| 11.43047317241908|\n",
            "|[2.0,7.0,116.0,31...| 12.0| 12.33279348063108|\n",
            "|[2.0,8.0,77.499,1...|  9.0| 8.549988805145825|\n",
            "|[2.0,9.0,113.0,26...|12.38|11.227026774638627|\n",
            "|[2.0,10.0,91.6270...|  9.0| 9.308524284430634|\n",
            "|[2.0,14.0,30.2769...| 3.73|3.5096432898637557|\n",
            "|[3.0,5.0,86.0,21....|  8.0| 9.289949251456212|\n",
            "|[3.0,17.0,55.451,...| 5.88|5.8724062329838835|\n",
            "|[4.0,8.0,91.0,22....| 11.0|10.056871659839832|\n",
            "|[6.0,5.0,122.0,28...|  6.7| 7.241473166716938|\n",
            "|[7.0,9.0,59.058,1...|  7.4| 7.453251084550811|\n",
            "|[7.0,31.0,35.143,...| 5.35| 4.724133535288648|\n",
            "+--------------------+-----+------------------+\n",
            "only showing top 20 rows\n",
            "\n"
          ]
        }
      ]
    },
    {
      "cell_type": "code",
      "source": [],
      "metadata": {
        "id": "1l3kRApBWf1Y"
      },
      "execution_count": null,
      "outputs": []
    }
  ],
  "metadata": {
    "anaconda-cloud": {},
    "kernelspec": {
      "display_name": "Python [conda root]",
      "language": "python",
      "name": "conda-root-py"
    },
    "language_info": {
      "codemirror_mode": {
        "name": "ipython",
        "version": 3
      },
      "file_extension": ".py",
      "mimetype": "text/x-python",
      "name": "python",
      "nbconvert_exporter": "python",
      "pygments_lexer": "ipython3",
      "version": "3.5.3"
    },
    "colab": {
      "provenance": []
    }
  },
  "nbformat": 4,
  "nbformat_minor": 0
}