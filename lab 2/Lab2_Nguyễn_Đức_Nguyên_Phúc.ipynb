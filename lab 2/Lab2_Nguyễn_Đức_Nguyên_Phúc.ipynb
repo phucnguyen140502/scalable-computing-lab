{
  "nbformat": 4,
  "nbformat_minor": 0,
  "metadata": {
    "colab": {
      "provenance": []
    },
    "kernelspec": {
      "name": "python3",
      "display_name": "Python 3"
    },
    "language_info": {
      "name": "python"
    }
  },
  "cells": [
    {
      "cell_type": "markdown",
      "source": [
        "1) Create an iterator that takes in a list and when iterated over, it returns the information in a reverse order.\n",
        "\n",
        "Hint: When accepting arguments into an iterator, you need to use the init method, as well as iter and next.\n",
        "\n",
        "The call below should result in `5, 4, 3, 2, 1`."
      ],
      "metadata": {
        "id": "JOCMLEdTJJPe"
      }
    },
    {
      "cell_type": "code",
      "execution_count": 2,
      "metadata": {
        "colab": {
          "base_uri": "https://localhost:8080/"
        },
        "id": "iREDLEa4IxWK",
        "outputId": "4134de04-5750-476a-e724-81e15a54c4f0"
      },
      "outputs": [
        {
          "output_type": "stream",
          "name": "stdout",
          "text": [
            "5\n",
            "4\n",
            "3\n",
            "2\n",
            "1\n"
          ]
        }
      ],
      "source": [
        "class ReverseIterator:\n",
        "    def __init__(self, data):\n",
        "        self.data = data\n",
        "        self.index = len(data)  # Start at the end of the list\n",
        "\n",
        "    def __iter__(self):\n",
        "        return self\n",
        "\n",
        "    def __next__(self):\n",
        "        if self.index == 0:  # StopIteration when all elements are iterated\n",
        "            raise StopIteration\n",
        "        self.index -= 1\n",
        "        return self.data[self.index]\n",
        "\n",
        "\n",
        "# Example usage\n",
        "my_list = [1, 2, 3, 4, 5]\n",
        "reverse_iter = ReverseIterator(my_list)\n",
        "\n",
        "for value in reverse_iter:\n",
        "    print(value)\n"
      ]
    },
    {
      "cell_type": "markdown",
      "source": [
        "2) Create a generator that acts like the range function, except it yields a squared number every time.\n",
        "\n",
        "The result of the call below should be `0, 1, 4, 16`."
      ],
      "metadata": {
        "id": "WkwCuWChKTNL"
      }
    },
    {
      "cell_type": "code",
      "source": [
        "def squared_range(start, stop, step=1):\n",
        "    current = start\n",
        "    while current < stop:\n",
        "        yield current ** 2  # Yield the square of the current number\n",
        "        current += step\n",
        "\n",
        "# Example usage\n",
        "for value in squared_range(0, 5):\n",
        "    print(value)\n"
      ],
      "metadata": {
        "colab": {
          "base_uri": "https://localhost:8080/"
        },
        "id": "2PHhVE69KSx1",
        "outputId": "5e74aa53-25e2-4822-ff68-024cdb311095"
      },
      "execution_count": 3,
      "outputs": [
        {
          "output_type": "stream",
          "name": "stdout",
          "text": [
            "0\n",
            "1\n",
            "4\n",
            "9\n",
            "16\n"
          ]
        }
      ]
    },
    {
      "cell_type": "markdown",
      "source": [
        "3) Develop a function to compute the finonacci series based on `generator`."
      ],
      "metadata": {
        "id": "Oxkx4eiKKyoh"
      }
    },
    {
      "cell_type": "code",
      "source": [
        "def fibonacci_series(n):\n",
        "    # Khởi tạo danh sách để lưu dãy Fibonacci\n",
        "    fib_sequence = []\n",
        "\n",
        "    # Nếu n = 0, trả về danh sách rỗng\n",
        "    if n == 0:\n",
        "        return fib_sequence\n",
        "\n",
        "    # Nếu n >= 1, thêm số đầu tiên của dãy Fibonacci\n",
        "    fib_sequence.append(0)\n",
        "\n",
        "    # Nếu n >= 2, thêm số thứ hai của dãy Fibonacci\n",
        "    if n > 1:\n",
        "        fib_sequence.append(1)\n",
        "\n",
        "    # Tính các số tiếp theo từ số thứ ba trở đi\n",
        "    while len(fib_sequence) < n:\n",
        "        # Số Fibonacci tiếp theo là tổng của hai số trước đó\n",
        "        next_number = fib_sequence[-1] + fib_sequence[-2]\n",
        "        fib_sequence.append(next_number)\n",
        "\n",
        "    # Trả về danh sách dãy Fibonacci\n",
        "    return fib_sequence\n",
        "\n",
        "# Sử dụng hàm\n",
        "n = 10  # Số lượng số Fibonacci muốn tính\n",
        "result = fibonacci_series(n)\n",
        "print(result)\n"
      ],
      "metadata": {
        "colab": {
          "base_uri": "https://localhost:8080/"
        },
        "id": "OV6Bv9ojKxJH",
        "outputId": "080ef098-972e-49bf-e62a-81ef19cd9ad3"
      },
      "execution_count": 4,
      "outputs": [
        {
          "output_type": "stream",
          "name": "stdout",
          "text": [
            "[0, 1, 1, 2, 3, 5, 8, 13, 21, 34]\n"
          ]
        }
      ]
    },
    {
      "cell_type": "markdown",
      "source": [
        "4) Define a class with a generator which can iterate the numbers, which are divisible by 7, between a given range 0 and n."
      ],
      "metadata": {
        "id": "2fK3pZkmLSfF"
      }
    },
    {
      "cell_type": "code",
      "source": [
        "class DivisibleBySeven:\n",
        "    def __init__(self, n):\n",
        "        \"\"\"\n",
        "        Initialize the class with an upper limit `n`.\n",
        "        \"\"\"\n",
        "        self.n = n\n",
        "\n",
        "    def generate_numbers(self):\n",
        "        \"\"\"\n",
        "        Generator to yield numbers divisible by 7 from 0 to `n`.\n",
        "        \"\"\"\n",
        "        for i in range(self.n + 1):  # Iterate from 0 to n (inclusive)\n",
        "            if i % 7 == 0:          # Check if the number is divisible by 7\n",
        "                yield i             # Yield the number if divisible\n",
        "\n",
        "# Using the class\n",
        "n = 50  # Define the upper limit\n",
        "divisible_gen = DivisibleBySeven(n)  # Create an instance of the class\n",
        "\n",
        "print(f\"Numbers divisible by 7 between 0 and {n}:\")\n",
        "for number in divisible_gen.generate_numbers():\n",
        "    print(number)\n"
      ],
      "metadata": {
        "colab": {
          "base_uri": "https://localhost:8080/"
        },
        "id": "holIzlRqLRNQ",
        "outputId": "23dfe6a8-b159-4997-d96d-680bd759fed7"
      },
      "execution_count": 6,
      "outputs": [
        {
          "output_type": "stream",
          "name": "stdout",
          "text": [
            "Numbers divisible by 7 between 0 and 50:\n",
            "0\n",
            "7\n",
            "14\n",
            "21\n",
            "28\n",
            "35\n",
            "42\n",
            "49\n"
          ]
        }
      ]
    },
    {
      "cell_type": "markdown",
      "source": [
        "5) Define a class named `American` and its subclass `NewYorker`.\n",
        "\n",
        "Hints:\n",
        "\n",
        "Use class `Subclass(ParentClass)` to define a subclass.\n"
      ],
      "metadata": {
        "id": "O2DZIG4HL619"
      }
    },
    {
      "cell_type": "code",
      "source": [
        "class American:\n",
        "    \"\"\"\n",
        "    A class to represent an American.\n",
        "    \"\"\"\n",
        "    def __init__(self):\n",
        "        self.nationality = \"American\"\n",
        "\n",
        "    def speak(self):\n",
        "        return \"I am an American.\"\n",
        "\n",
        "class NewYorker(American):\n",
        "    \"\"\"\n",
        "    A subclass of American to represent a New Yorker.\n",
        "    \"\"\"\n",
        "    def __init__(self):\n",
        "        super().__init__()  # Call the initializer of the parent class\n",
        "        self.city = \"New York\"\n",
        "\n",
        "    def speak(self):\n",
        "        return \"I am a New Yorker!\"\n",
        "\n",
        "# Example usage\n",
        "american = American()\n",
        "new_yorker = NewYorker()\n",
        "\n",
        "print(american.speak())  # Output: I am an American.\n",
        "print(new_yorker.speak())  # Output: I am a New Yorker!\n"
      ],
      "metadata": {
        "colab": {
          "base_uri": "https://localhost:8080/"
        },
        "id": "zRfpQhFiL8IQ",
        "outputId": "96d180a8-0687-43a7-e357-fd1a152e2afe"
      },
      "execution_count": 7,
      "outputs": [
        {
          "output_type": "stream",
          "name": "stdout",
          "text": [
            "I am an American.\n",
            "I am a New Yorker!\n"
          ]
        }
      ]
    },
    {
      "cell_type": "markdown",
      "source": [
        "6) Define a class named `Circle` which can be constructed by a radius. The `Circle` class has a method which can compute the area."
      ],
      "metadata": {
        "id": "odMeKSrwMg6s"
      }
    },
    {
      "cell_type": "code",
      "source": [
        "import math\n",
        "\n",
        "class Circle:\n",
        "    \"\"\"\n",
        "    A class to represent a circle with a given radius.\n",
        "    \"\"\"\n",
        "    def __init__(self, radius):\n",
        "        \"\"\"\n",
        "        Initialize the Circle with a radius.\n",
        "        \"\"\"\n",
        "        self.radius = radius\n",
        "\n",
        "    def compute_area(self):\n",
        "        \"\"\"\n",
        "        Compute and return the area of the circle.\n",
        "        Formula: area = π * radius^2\n",
        "        \"\"\"\n",
        "        return math.pi * (self.radius ** 2)\n",
        "\n",
        "# Example usage\n",
        "circle = Circle(5)  # Create a Circle with radius 5\n",
        "print(f\"The area of the circle with radius {circle.radius} is: {circle.compute_area():.2f}\")\n"
      ],
      "metadata": {
        "colab": {
          "base_uri": "https://localhost:8080/"
        },
        "id": "i_45cT1bMJQ3",
        "outputId": "420f5ced-18d2-4533-d7a0-b7f72d4bd4aa"
      },
      "execution_count": 8,
      "outputs": [
        {
          "output_type": "stream",
          "name": "stdout",
          "text": [
            "The area of the circle with radius 5 is: 78.54\n"
          ]
        }
      ]
    },
    {
      "cell_type": "markdown",
      "source": [
        "7) Define a class named `Rectangle` which can be constructed by a `length` and `width`. The `Rectangle` class has a method which can compute the area."
      ],
      "metadata": {
        "id": "L-zEbacVM4Sl"
      }
    },
    {
      "cell_type": "code",
      "source": [
        "\n",
        "class Rectangle:\n",
        "    def __init__(self, length, width):\n",
        "        self.length = length\n",
        "        self.width = width\n",
        "\n",
        "    def compute_area(self):\n",
        "        return self.length * self.width\n",
        "\n",
        "rectangle = Rectangle(5, 3)\n",
        "print(f\"The area of the rectangle is: {rectangle.compute_area()}\")"
      ],
      "metadata": {
        "colab": {
          "base_uri": "https://localhost:8080/"
        },
        "id": "cwfKQwwBMzr3",
        "outputId": "1ec72060-2b74-47a6-c85b-5c79f1cb9dd2"
      },
      "execution_count": 9,
      "outputs": [
        {
          "output_type": "stream",
          "name": "stdout",
          "text": [
            "The area of the rectangle is: 15\n"
          ]
        }
      ]
    },
    {
      "cell_type": "markdown",
      "source": [
        "8) Define a class Person and its two child classes: `Male` and `Female`. All classes have a method `getGender` which can print `Male` for `Male` class and `Female` for `Female` class."
      ],
      "metadata": {
        "id": "5LgztJ2nNOBW"
      }
    },
    {
      "cell_type": "code",
      "source": [
        "class Person:\n",
        "    def getGender(self):\n",
        "        print(\"Unknown\")\n",
        "\n",
        "class Male(Person):\n",
        "    def getGender(self):\n",
        "        print(\"Male\")\n",
        "\n",
        "class Female(Person):\n",
        "    def getGender(self):\n",
        "        print(\"Female\")"
      ],
      "metadata": {
        "id": "n9N4bQECNM-r"
      },
      "execution_count": 10,
      "outputs": []
    },
    {
      "cell_type": "code",
      "source": [
        "gender = Person()\n",
        "gender.getGender()"
      ],
      "metadata": {
        "colab": {
          "base_uri": "https://localhost:8080/"
        },
        "id": "Mk-LsvlKNhly",
        "outputId": "4ec1d061-c324-40d6-b2d3-d984b023e0bb"
      },
      "execution_count": 13,
      "outputs": [
        {
          "output_type": "stream",
          "name": "stdout",
          "text": [
            "Unknown\n"
          ]
        }
      ]
    },
    {
      "cell_type": "code",
      "source": [
        "male = Male()\n",
        "male.getGender()"
      ],
      "metadata": {
        "colab": {
          "base_uri": "https://localhost:8080/"
        },
        "id": "ozG8vNR7Nw6O",
        "outputId": "28958226-2c8a-43ad-8231-a9efa052a8f3"
      },
      "execution_count": 14,
      "outputs": [
        {
          "output_type": "stream",
          "name": "stdout",
          "text": [
            "Male\n"
          ]
        }
      ]
    },
    {
      "cell_type": "code",
      "source": [
        "female = Female()\n",
        "female.getGender()"
      ],
      "metadata": {
        "id": "3D4bwaJyN0nH",
        "outputId": "0a46e538-ab55-4c82-9acc-7fb793023ee8",
        "colab": {
          "base_uri": "https://localhost:8080/"
        }
      },
      "execution_count": 15,
      "outputs": [
        {
          "output_type": "stream",
          "name": "stdout",
          "text": [
            "Female\n"
          ]
        }
      ]
    }
  ]
}